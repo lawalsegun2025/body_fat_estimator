{
 "cells": [
  {
   "cell_type": "markdown",
   "id": "e0e7db46",
   "metadata": {},
   "source": [
    "# Body Fat Predictor\n",
    "\n",
    "This project model estimates the percentage of body fat in a human's body based on parameters such as weight, height, hip size and many more. "
   ]
  },
  {
   "cell_type": "markdown",
   "id": "bc7d1735",
   "metadata": {},
   "source": [
    "## Data Set\n",
    "\n",
    "Lists estimates of the percentage of body fat determined by underwater weighing and various body circumference measurements for 252 men.\n",
    "\n",
    "The features contained in the dataset;\n",
    "\n",
    "1. Density determined from underwater weighing\n",
    "2. Percent body fat from Siri's (1956) equation\n",
    "3. Age (years)\n",
    "4. Weight (lbs)\n",
    "5. Height (inches)\n",
    "6. Neck circumference (cm)\n",
    "7. Chest circumference (cm)\n",
    "8. Abdomen 2 circumference (cm)\n",
    "9. Hip circumference (cm)\n",
    "10. Thigh circumference (cm)\n",
    "11. Knee circumference (cm)\n",
    "12. Ankle circumference (cm)\n",
    "13. Biceps (extended) circumference (cm)\n",
    "14. Forearm circumference (cm)\n",
    "15. Wrist circumference (cm)\n",
    "\n",
    "\n",
    "**Source**\n",
    "\n",
    "The dataget \n",
    "The data were generously supplied by Dr. A. Garth Fisher who gave permission to freely distribute the data and use for non-commercial purposes.\n",
    "\n",
    "Roger W. Johnson\n",
    "Department of Mathematics & Computer Science\n",
    "South Dakota School of Mines & Technology\n",
    "501 East St. Joseph Street\n",
    "Rapid City, SD 57701\n",
    "\n",
    "email address: rwjohnso@silver.sdsmt.edu\n",
    "web address: http://silver.sdsmt.edu/~rwjohnso"
   ]
  },
  {
   "cell_type": "code",
   "execution_count": null,
   "id": "431e0e9f",
   "metadata": {},
   "outputs": [],
   "source": [
    "# Import dependancies\n"
   ]
  }
 ],
 "metadata": {
  "kernelspec": {
   "display_name": "Python 3 (ipykernel)",
   "language": "python",
   "name": "python3"
  },
  "language_info": {
   "codemirror_mode": {
    "name": "ipython",
    "version": 3
   },
   "file_extension": ".py",
   "mimetype": "text/x-python",
   "name": "python",
   "nbconvert_exporter": "python",
   "pygments_lexer": "ipython3",
   "version": "3.10.8"
  }
 },
 "nbformat": 4,
 "nbformat_minor": 5
}
